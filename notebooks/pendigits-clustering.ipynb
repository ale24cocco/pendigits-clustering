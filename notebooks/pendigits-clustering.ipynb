{
 "cells": [
  {
   "cell_type": "markdown",
   "metadata": {},
   "source": [
    "# Progetto di Data Mining 2.5 Clustering\n",
    "\n",
    "## Pendigits Dataset Analysis and Processing"
   ]
  },
  {
   "cell_type": "code",
   "execution_count": null,
   "metadata": {},
   "outputs": [],
   "source": [
    "# Import Librerie\n",
    "from sklearn.datasets import fetch_openml\n",
    "import pandas as pd"
   ]
  },
  {
   "cell_type": "code",
   "execution_count": 14,
   "metadata": {},
   "outputs": [],
   "source": [
    "def get_data(name: str):\n",
    "    \n",
    "    pendigits = fetch_openml(name = \"pendigits\", version=1, as_frame=True)\n",
    "    X = pendigits.data\n",
    "    y = pendigits.target\n",
    "    \n",
    "    df = X.copy()\n",
    "    df['target'] = y\n",
    "    \n",
    "    df.to_csv(\"../data/raw/pendigits.csv\", index = False)\n",
    "    \n",
    "get_data(\"pendigits\")"
   ]
  }
 ],
 "metadata": {
  "kernelspec": {
   "display_name": "venv",
   "language": "python",
   "name": "python3"
  },
  "language_info": {
   "codemirror_mode": {
    "name": "ipython",
    "version": 3
   },
   "file_extension": ".py",
   "mimetype": "text/x-python",
   "name": "python",
   "nbconvert_exporter": "python",
   "pygments_lexer": "ipython3",
   "version": "3.10.12"
  }
 },
 "nbformat": 4,
 "nbformat_minor": 2
}
